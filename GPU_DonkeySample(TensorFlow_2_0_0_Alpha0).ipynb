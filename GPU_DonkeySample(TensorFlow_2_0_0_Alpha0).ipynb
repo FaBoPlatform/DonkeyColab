{
  "nbformat": 4,
  "nbformat_minor": 0,
  "metadata": {
    "colab": {
      "name": "GPU DonkeySample(TensorFlow 2.0.0 Alpha0)",
      "version": "0.3.2",
      "provenance": [],
      "collapsed_sections": [],
      "toc_visible": true
    },
    "kernelspec": {
      "name": "python3",
      "display_name": "Python 3"
    },
    "accelerator": "GPU"
  },
  "cells": [
    {
      "metadata": {
        "colab_type": "text",
        "id": "BlmQIFSLZDdc"
      },
      "cell_type": "markdown",
      "source": [
        "# Donkey Colab with GPU(TensorFlow 2.0.0 Alpha0)\n",
        "\n",
        "Donkey Colab with GPU.\n",
        "\n",
        "- Version 0.1(2019年3月18日)"
      ]
    },
    {
      "metadata": {
        "id": "liQZb4cDmZgy",
        "colab_type": "text"
      },
      "cell_type": "markdown",
      "source": [
        "# TensorFlowを2.0.0 Alpha0にUpdate\n"
      ]
    },
    {
      "metadata": {
        "id": "QSX76iKYmd_V",
        "colab_type": "code",
        "colab": {}
      },
      "cell_type": "code",
      "source": [
        "!pip install tensorflow-gpu==2.0.0-Alpha0"
      ],
      "execution_count": 0,
      "outputs": []
    },
    {
      "metadata": {
        "id": "arsH-DhLcihq",
        "colab_type": "text"
      },
      "cell_type": "markdown",
      "source": [
        "# GPUの割り振りを確認\n",
        "\n",
        "\"Found GPU at: /device:GPU:0\"と表示されれば、GPUが使用できる状態です。"
      ]
    },
    {
      "metadata": {
        "id": "uQgEhuoTcg0N",
        "colab_type": "code",
        "colab": {}
      },
      "cell_type": "code",
      "source": [
        "import tensorflow as tf\n",
        "device_name = tf.test.gpu_device_name()\n",
        "if device_name != '/device:GPU:0':\n",
        "  raise SystemError('GPU device not found')\n",
        "print('Found GPU at: {}'.format(device_name))"
      ],
      "execution_count": 0,
      "outputs": []
    },
    {
      "metadata": {
        "id": "Ba2oPDIrsDFg",
        "colab_type": "text"
      },
      "cell_type": "markdown",
      "source": [
        "# DonkeyレポジトリをGit clone"
      ]
    },
    {
      "metadata": {
        "id": "oOxd9PFUyNxI",
        "colab_type": "code",
        "colab": {}
      },
      "cell_type": "code",
      "source": [
        "!git clone -b dev https://github.com/autorope/donkeycar.git donkey"
      ],
      "execution_count": 0,
      "outputs": []
    },
    {
      "metadata": {
        "id": "9TkkcF-gsAnx",
        "colab_type": "text"
      },
      "cell_type": "markdown",
      "source": [
        "# インストール"
      ]
    },
    {
      "metadata": {
        "id": "jz_PZgrByPDh",
        "colab_type": "code",
        "colab": {}
      },
      "cell_type": "code",
      "source": [
        "!pip3 install -e donkey"
      ],
      "execution_count": 0,
      "outputs": []
    },
    {
      "metadata": {
        "id": "syCctLq2r4Wk",
        "colab_type": "text"
      },
      "cell_type": "markdown",
      "source": [
        "# Projectの作成"
      ]
    },
    {
      "metadata": {
        "id": "1xjJBSITyXy2",
        "colab_type": "code",
        "outputId": "d8392623-e2bf-46ed-9d33-2ca81c2852f6",
        "colab": {
          "base_uri": "https://localhost:8080/",
          "height": 187
        }
      },
      "cell_type": "code",
      "source": [
        "!donkey createcar --template donkey2  /content/mycar"
      ],
      "execution_count": 0,
      "outputs": [
        {
          "output_type": "stream",
          "text": [
            "using donkey version: 2.5.7 ...\n",
            "Creating car folder: /content/mycar\n",
            "making dir  /content/mycar\n",
            "Creating data & model folders.\n",
            "making dir  /content/mycar/models\n",
            "making dir  /content/mycar/data\n",
            "making dir  /content/mycar/logs\n",
            "Copying car application template: donkey2\n",
            "Copying car config defaults. Adjust these before starting your car.\n",
            "Donkey setup complete.\n"
          ],
          "name": "stdout"
        }
      ]
    },
    {
      "metadata": {
        "id": "dnUy1Z1zro77",
        "colab_type": "text"
      },
      "cell_type": "markdown",
      "source": [
        "# datas.zipのアップロードとデータの解凍\n",
        "下記コードを実行すると、ファイルのアップロード フォームが出現します。datas.zipをアップリードします。\n",
        "\n",
        "datas.zipは、/content以下にアップされます。mv コマンドで、/content/mycar/dataに移動し、解凍します。"
      ]
    },
    {
      "metadata": {
        "id": "nqB_I9dsxBoA",
        "colab_type": "code",
        "colab": {}
      },
      "cell_type": "code",
      "source": [
        "import os\n",
        "from google.colab import files\n",
        "\n",
        "if(os.path.exists(\"/content/datas.zip\")):\n",
        "   os.remove(\"/content/datas.zip\")\n",
        "if(os.path.exists(\"/content/mycar/data/datas.zip\")):\n",
        "   os.remove(\"/content/mycar/data/datas.zip\")\n",
        "   \n",
        "uploaded = files.upload()\n",
        "\n",
        "WORK_FOLDER = \"/content/mycar/data/\"\n",
        "if(os.path.exists(WORK_FOLDER) == False):\n",
        "  os.makedirs(WORK_FOLDER)\n",
        "\n",
        "!mv /content/datas.zip /content/mycar/data/\n",
        "%cd /content/mycar/data/\n",
        "!unzip -o datas.zip"
      ],
      "execution_count": 0,
      "outputs": []
    },
    {
      "metadata": {
        "id": "IXL2GbRKajG-",
        "colab_type": "text"
      },
      "cell_type": "markdown",
      "source": [
        "# ランタイムの再起動\n",
        "\n",
        "Colabメニューの**[ランタイム]-[ランタイムの再起動]**して、ライブラリを取り込みます。"
      ]
    },
    {
      "metadata": {
        "id": "llH7e-J7sJ5g",
        "colab_type": "text"
      },
      "cell_type": "markdown",
      "source": [
        "# 学習用のScript\n",
        "\n",
        "DonkeyCarの学習用のScriptを読み込みます。"
      ]
    },
    {
      "metadata": {
        "id": "p6HUYT_e9g20",
        "colab_type": "code",
        "colab": {}
      },
      "cell_type": "code",
      "source": [
        "#!/usr/bin/env python3\n",
        "\n",
        "import os\n",
        "\n",
        "from docopt import docopt\n",
        "import donkeycar as dk\n",
        "import tensorflow as tf\n",
        "from donkeycar.parts.camera import PiCamera\n",
        "from donkeycar.parts.transform import Lambda\n",
        "from donkeycar.parts.keras import KerasLinear\n",
        "from donkeycar.parts.actuator import PCA9685, PWMSteering, PWMThrottle\n",
        "from donkeycar.parts.datastore import TubGroup, TubWriter\n",
        "from donkeycar.parts.web_controller import LocalWebController\n",
        "from donkeycar.parts.clock import Timestamp\n",
        "from donkeycar.parts.datastore import TubGroup, TubWriter\n",
        "from donkeycar.parts.keras import KerasLinear\n",
        "from donkeycar.parts.transform import Lambda\n",
        "\n",
        "\n",
        "def train(cfg, tub_names, new_model_path, base_model_path=None):\n",
        "    \"\"\"\n",
        "    use the specified data in tub_names to train an artifical neural network\n",
        "    saves the output trained model as model_name\n",
        "    \"\"\"\n",
        "    X_keys = ['cam/image_array']\n",
        "    y_keys = ['user/angle', 'user/throttle']\n",
        "\n",
        "    new_model_path = os.path.expanduser(new_model_path)\n",
        "\n",
        "    kl = KerasLinear()\n",
        "    if base_model_path is not None:\n",
        "        base_model_path = os.path.expanduser(base_model_path)\n",
        "        kl.load(base_model_path)\n",
        "\n",
        "    print('tub_names', tub_names)\n",
        "    if not tub_names:\n",
        "        tub_names = os.path.join(\"/content/mycar/data/\", '*')\n",
        "    print('tub_names', tub_names)\n",
        "    tubgroup = TubGroup(tub_names)\n",
        "    train_gen, val_gen = tubgroup.get_train_val_gen(X_keys, y_keys,\n",
        "                                                    batch_size=128,\n",
        "                                                    train_frac=0.8)\n",
        "\n",
        "    total_records = len(tubgroup.df)\n",
        "    total_train = int(total_records * 0.8)\n",
        "    total_val = total_records - total_train\n",
        "    print('train: %d, validation: %d' % (total_train, total_val))\n",
        "    steps_per_epoch = total_train //128\n",
        "    print('steps_per_epoch', steps_per_epoch)\n",
        "\n",
        "    kl.train(train_gen,\n",
        "             val_gen,\n",
        "             saved_model_path=new_model_path,\n",
        "             steps=steps_per_epoch,\n",
        "             train_split=0.8)"
      ],
      "execution_count": 0,
      "outputs": []
    },
    {
      "metadata": {
        "id": "e-4fu_vD1j25",
        "colab_type": "text"
      },
      "cell_type": "markdown",
      "source": [
        "#学習の開始\n",
        "\n",
        "/conetnt/mycar/data/に存在するフォルダをすべて学習対象にする場合"
      ]
    },
    {
      "metadata": {
        "id": "WFqlj3MXbEL5",
        "colab_type": "code",
        "colab": {}
      },
      "cell_type": "code",
      "source": [
        "with tf.device('/gpu:0'):\n",
        "  cfg = None\n",
        "  tub = None\n",
        "  new_model_path = \"/content/mycar/models/mypilot\"\n",
        "  base_model_path = None\n",
        "  cache = None\n",
        "  train(cfg, tub, new_model_path, base_model_path)"
      ],
      "execution_count": 0,
      "outputs": []
    },
    {
      "metadata": {
        "id": "iWtc6q3LPHqP",
        "colab_type": "text"
      },
      "cell_type": "markdown",
      "source": [
        "学習結果は、/content/mycar/models/mypilotに保存されます。\n",
        "mypilotをダブルクリックしローカルにダウンロードし、SSHでRaspberryPiの~/mycar/models/mypilotにコピーします。\n",
        "\n",
        "![](https://faboplatform.github.io/DonkeyDocs/1.DonkeyCar%E6%A7%8B%E7%AF%89%E3%83%BB%E5%AD%A6%E7%BF%92/img/upload.png)"
      ]
    },
    {
      "metadata": {
        "id": "1Y5o5BTFTTW-",
        "colab_type": "text"
      },
      "cell_type": "markdown",
      "source": [
        "#学習の開始\n",
        "\n",
        "/conetnt/mycar/data/に存在する特定のフォルダを学習対象にする場合。\n",
        "\n",
        "tubにフォルダの場所をフルパスで記載する。"
      ]
    },
    {
      "metadata": {
        "id": "46v1lVaqPz8z",
        "colab_type": "code",
        "colab": {}
      },
      "cell_type": "code",
      "source": [
        "with tf.device('/gpu:0'):\n",
        "  cfg = None\n",
        "  tub = \"/content/mycar/data/tub_01-03-31\"\n",
        "  new_model_path = \"/content/mycar/models/mypilot\"\n",
        "  base_model_path = None\n",
        "  cache = None\n",
        "  train(cfg, tub, new_model_path, base_model_path)"
      ],
      "execution_count": 0,
      "outputs": []
    }
  ]
}
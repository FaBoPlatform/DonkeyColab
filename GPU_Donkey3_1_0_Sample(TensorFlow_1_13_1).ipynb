{
  "nbformat": 4,
  "nbformat_minor": 0,
  "metadata": {
    "colab": {
      "name": "GPU_Donkey3_1_0_Sample(TensorFlow_1_13_1).ipynb",
      "version": "0.3.2",
      "provenance": [],
      "collapsed_sections": []
    },
    "kernelspec": {
      "name": "python3",
      "display_name": "Python 3"
    },
    "accelerator": "GPU"
  },
  "cells": [
    {
      "cell_type": "markdown",
      "metadata": {
        "colab_type": "text",
        "id": "BlmQIFSLZDdc"
      },
      "source": [
        "# Donkey Colab 3.1.0 with GPU(TensorFlow 1.13.1)\n",
        "\n",
        "Donkey Colab with GPU.\n",
        "- Version 0.1(2019年9月3日)\n",
        "\n",
        "\n",
        "## 概要\n",
        "Google Colabを使用し、Donkey Carの学習を行います\n",
        "\n",
        "上からコードをを実行することで、以下のことができます\n",
        "- Google Colabの環境設定\n",
        "- 学習\n",
        "- 学習結果の取得  \n",
        "\n",
        "\n"
      ]
    },
    {
      "cell_type": "markdown",
      "metadata": {
        "id": "liQZb4cDmZgy",
        "colab_type": "text"
      },
      "source": [
        "# TensorFlowのインストール\n",
        "\n",
        "TensorFlowのVersionは、DonkeyCarのRaspberryPi3にはいっているバージョンと同じバージョンをインストールします。  \n",
        "Google Colabはデフォルトでtensorflow-1.14.0が入っています（2019年9月3日）。  \n",
        "なので一度アンインストールし、バージョンを揃えています。"
      ]
    },
    {
      "cell_type": "code",
      "metadata": {
        "id": "QSX76iKYmd_V",
        "colab_type": "code",
        "colab": {}
      },
      "source": [
        "!pip uninstall -y tensorflow\n",
        "!pip install tensorflow-gpu==1.13.1"
      ],
      "execution_count": 0,
      "outputs": []
    },
    {
      "cell_type": "markdown",
      "metadata": {
        "id": "G7OYRZhiBisA",
        "colab_type": "text"
      },
      "source": [
        "# TensorFlowのバージョン確認"
      ]
    },
    {
      "cell_type": "code",
      "metadata": {
        "id": "1lNo7WukBc-Y",
        "colab_type": "code",
        "colab": {}
      },
      "source": [
        "!pip freeze | grep -i -e tensorflow"
      ],
      "execution_count": 0,
      "outputs": []
    },
    {
      "cell_type": "markdown",
      "metadata": {
        "id": "arsH-DhLcihq",
        "colab_type": "text"
      },
      "source": [
        "# GPUの確認\n",
        "\n",
        "\"Found GPU at: /device:GPU:0\"と表示されれば、GPUが使用できる状態です。"
      ]
    },
    {
      "cell_type": "code",
      "metadata": {
        "id": "uQgEhuoTcg0N",
        "colab_type": "code",
        "colab": {}
      },
      "source": [
        "import tensorflow as tf\n",
        "device_name = tf.test.gpu_device_name()\n",
        "if device_name != '/device:GPU:0':\n",
        "  raise SystemError('GPU device not found')\n",
        "print('Found GPU at: {}'.format(device_name))"
      ],
      "execution_count": 0,
      "outputs": []
    },
    {
      "cell_type": "markdown",
      "metadata": {
        "id": "Ba2oPDIrsDFg",
        "colab_type": "text"
      },
      "source": [
        "# DonkeyCarのインストール"
      ]
    },
    {
      "cell_type": "code",
      "metadata": {
        "id": "oOxd9PFUyNxI",
        "colab_type": "code",
        "colab": {}
      },
      "source": [
        "!git clone https://github.com/autorope/donkeycar.git \n",
        "%cd donkeycar\n",
        "!git checkout master\n",
        "!pip3 install -e .[pc]"
      ],
      "execution_count": 0,
      "outputs": []
    },
    {
      "cell_type": "markdown",
      "metadata": {
        "id": "syCctLq2r4Wk",
        "colab_type": "text"
      },
      "source": [
        "# DonkeyCarのProjectを作成"
      ]
    },
    {
      "cell_type": "code",
      "metadata": {
        "colab_type": "code",
        "id": "8MCHlAop6mES",
        "colab": {}
      },
      "source": [
        "!donkey createcar --path /content/mycar"
      ],
      "execution_count": 0,
      "outputs": []
    },
    {
      "cell_type": "markdown",
      "metadata": {
        "id": "dnUy1Z1zro77",
        "colab_type": "text"
      },
      "source": [
        "# datas.zipのアップロードとデータの解凍\n",
        "datas.zip（DonkeyCarで集めた学習用データ）をアップロードします。  \n",
        "下記コードを実行すると、ファイルのアップロード フォームが出現します。  \n",
        "\n",
        "ファイルは`/content/mycar/data/`以下に送信され、datas.zipの解凍を行っています"
      ]
    },
    {
      "cell_type": "code",
      "metadata": {
        "id": "nqB_I9dsxBoA",
        "colab_type": "code",
        "colab": {}
      },
      "source": [
        "import os\n",
        "from google.colab import files\n",
        "\n",
        "if(os.path.exists(\"/content/datas.zip\")):\n",
        "   os.remove(\"/content/datas.zip\")\n",
        "if(os.path.exists(\"/content/mycar/data/datas.zip\")):\n",
        "   os.remove(\"/content/mycar/data/datas.zip\")\n",
        "\n",
        "%cd /content/mycar/data/\n",
        "uploaded = files.upload()\n",
        "\n",
        "!unzip -o datas.zip"
      ],
      "execution_count": 0,
      "outputs": []
    },
    {
      "cell_type": "markdown",
      "metadata": {
        "id": "e-4fu_vD1j25",
        "colab_type": "text"
      },
      "source": [
        "#学習の開始\n",
        "\n",
        "Colabの環境構築が出来たので、DonkeyCarの学習を行います\n"
      ]
    },
    {
      "cell_type": "code",
      "metadata": {
        "id": "K747mFXW1e7H",
        "colab_type": "code",
        "colab": {
          "base_uri": "https://localhost:8080/",
          "height": 1000
        },
        "outputId": "320e9b23-1242-49fe-fb8b-d6cfa327ba5b"
      },
      "source": [
        "%cd /content/mycar\n",
        "!python manage.py train --model=/content/mycar/models/mypilot.h5 --type=linear"
      ],
      "execution_count": 7,
      "outputs": [
        {
          "output_type": "stream",
          "text": [
            "/content/mycar\n",
            "using donkey v3.1.0 ...\n",
            "loading config file: /content/mycar/config.py\n",
            "loading personal config over-rides\n",
            "\n",
            "config loaded\n",
            "2019-09-16 09:39:57.805999: I tensorflow/core/platform/cpu_feature_guard.cc:141] Your CPU supports instructions that this TensorFlow binary was not compiled to use: AVX2 AVX512F FMA\n",
            "2019-09-16 09:39:57.905267: I tensorflow/stream_executor/cuda/cuda_gpu_executor.cc:998] successful NUMA node read from SysFS had negative value (-1), but there must be at least one NUMA node, so returning NUMA node zero\n",
            "2019-09-16 09:39:57.906143: I tensorflow/compiler/xla/service/service.cc:150] XLA service 0x24ccdc0 executing computations on platform CUDA. Devices:\n",
            "2019-09-16 09:39:57.906179: I tensorflow/compiler/xla/service/service.cc:158]   StreamExecutor device (0): Tesla T4, Compute Capability 7.5\n",
            "2019-09-16 09:39:57.907997: I tensorflow/core/platform/profile_utils/cpu_utils.cc:94] CPU Frequency: 2000140000 Hz\n",
            "2019-09-16 09:39:57.908299: I tensorflow/compiler/xla/service/service.cc:150] XLA service 0x24ccc60 executing computations on platform Host. Devices:\n",
            "2019-09-16 09:39:57.908330: I tensorflow/compiler/xla/service/service.cc:158]   StreamExecutor device (0): <undefined>, <undefined>\n",
            "2019-09-16 09:39:57.908463: I tensorflow/core/common_runtime/gpu/gpu_device.cc:1433] Found device 0 with properties: \n",
            "name: Tesla T4 major: 7 minor: 5 memoryClockRate(GHz): 1.59\n",
            "pciBusID: 0000:00:04.0\n",
            "totalMemory: 14.73GiB freeMemory: 14.52GiB\n",
            "2019-09-16 09:39:57.908487: I tensorflow/core/common_runtime/gpu/gpu_device.cc:1512] Adding visible gpu devices: 0\n",
            "2019-09-16 09:39:57.909303: I tensorflow/core/common_runtime/gpu/gpu_device.cc:984] Device interconnect StreamExecutor with strength 1 edge matrix:\n",
            "2019-09-16 09:39:57.909324: I tensorflow/core/common_runtime/gpu/gpu_device.cc:990]      0 \n",
            "2019-09-16 09:39:57.909334: I tensorflow/core/common_runtime/gpu/gpu_device.cc:1003] 0:   N \n",
            "2019-09-16 09:39:57.909414: I tensorflow/core/common_runtime/gpu/gpu_device.cc:1115] Created TensorFlow device (/job:localhost/replica:0/task:0/device:GPU:0 with 14125 MB memory) -> physical GPU (device: 0, name: Tesla T4, pci bus id: 0000:00:04.0, compute capability: 7.5)\n",
            "\"get_model_by_type\" model Type is: linear\n",
            "WARNING:tensorflow:From /usr/local/lib/python3.6/dist-packages/tensorflow/python/ops/resource_variable_ops.py:435: colocate_with (from tensorflow.python.framework.ops) is deprecated and will be removed in a future version.\n",
            "Instructions for updating:\n",
            "Colocations handled automatically by placer.\n",
            "WARNING:tensorflow:From /usr/local/lib/python3.6/dist-packages/tensorflow/python/keras/layers/core.py:143: calling dropout (from tensorflow.python.ops.nn_ops) with keep_prob is deprecated and will be removed in a future version.\n",
            "Instructions for updating:\n",
            "Please use `rate` instead of `keep_prob`. Rate should be set to `rate = 1 - keep_prob`.\n",
            "WARNING:tensorflow:From /usr/local/lib/python3.6/dist-packages/tensorflow/python/keras/utils/losses_utils.py:170: to_float (from tensorflow.python.ops.math_ops) is deprecated and will be removed in a future version.\n",
            "Instructions for updating:\n",
            "Use tf.cast instead.\n",
            "training with model type <class 'donkeycar.parts.keras.KerasLinear'>\n",
            "__________________________________________________________________________________________________\n",
            "Layer (type)                    Output Shape         Param #     Connected to                     \n",
            "==================================================================================================\n",
            "img_in (InputLayer)             (None, 120, 160, 3)  0                                            \n",
            "__________________________________________________________________________________________________\n",
            "conv2d_1 (Conv2D)               (None, 58, 78, 24)   1824        img_in[0][0]                     \n",
            "__________________________________________________________________________________________________\n",
            "dropout (Dropout)               (None, 58, 78, 24)   0           conv2d_1[0][0]                   \n",
            "__________________________________________________________________________________________________\n",
            "conv2d_2 (Conv2D)               (None, 27, 37, 32)   19232       dropout[0][0]                    \n",
            "__________________________________________________________________________________________________\n",
            "dropout_1 (Dropout)             (None, 27, 37, 32)   0           conv2d_2[0][0]                   \n",
            "__________________________________________________________________________________________________\n",
            "conv2d_3 (Conv2D)               (None, 12, 17, 64)   51264       dropout_1[0][0]                  \n",
            "__________________________________________________________________________________________________\n",
            "dropout_2 (Dropout)             (None, 12, 17, 64)   0           conv2d_3[0][0]                   \n",
            "__________________________________________________________________________________________________\n",
            "conv2d_4 (Conv2D)               (None, 10, 15, 64)   36928       dropout_2[0][0]                  \n",
            "__________________________________________________________________________________________________\n",
            "dropout_3 (Dropout)             (None, 10, 15, 64)   0           conv2d_4[0][0]                   \n",
            "__________________________________________________________________________________________________\n",
            "conv2d_5 (Conv2D)               (None, 8, 13, 64)    36928       dropout_3[0][0]                  \n",
            "__________________________________________________________________________________________________\n",
            "dropout_4 (Dropout)             (None, 8, 13, 64)    0           conv2d_5[0][0]                   \n",
            "__________________________________________________________________________________________________\n",
            "flattened (Flatten)             (None, 6656)         0           dropout_4[0][0]                  \n",
            "__________________________________________________________________________________________________\n",
            "dense (Dense)                   (None, 100)          665700      flattened[0][0]                  \n",
            "__________________________________________________________________________________________________\n",
            "dropout_5 (Dropout)             (None, 100)          0           dense[0][0]                      \n",
            "__________________________________________________________________________________________________\n",
            "dense_1 (Dense)                 (None, 50)           5050        dropout_5[0][0]                  \n",
            "__________________________________________________________________________________________________\n",
            "dropout_6 (Dropout)             (None, 50)           0           dense_1[0][0]                    \n",
            "__________________________________________________________________________________________________\n",
            "n_outputs0 (Dense)              (None, 1)            51          dropout_6[0][0]                  \n",
            "__________________________________________________________________________________________________\n",
            "n_outputs1 (Dense)              (None, 1)            51          dropout_6[0][0]                  \n",
            "==================================================================================================\n",
            "Total params: 817,028\n",
            "Trainable params: 817,028\n",
            "Non-trainable params: 0\n",
            "__________________________________________________________________________________________________\n",
            "None\n",
            "collating 0 records ...\n",
            "train: 0, val: 0\n",
            "total records: 0\n",
            "steps_per_epoch 0\n",
            "Traceback (most recent call last):\n",
            "  File \"manage.py\", line 589, in <module>\n",
            "    multi_train(cfg, dirs, model, transfer, model_type, continuous, aug)\n",
            "  File \"/content/mycar/train.py\", line 956, in multi_train\n",
            "    train_fn(cfg, tub, model, transfer, model_type, continuous, aug)\n",
            "  File \"/content/mycar/train.py\", line 521, in train\n",
            "    go_train(kl, cfg, train_gen, val_gen, gen_records, model_name, steps_per_epoch, val_steps, continuous, verbose, save_best)\n",
            "  File \"/content/mycar/train.py\", line 549, in go_train\n",
            "    raise Exception(\"Too little data to train. Please record more records.\")\n",
            "Exception: Too little data to train. Please record more records.\n"
          ],
          "name": "stdout"
        }
      ]
    },
    {
      "cell_type": "markdown",
      "metadata": {
        "id": "iWtc6q3LPHqP",
        "colab_type": "text"
      },
      "source": [
        "# 学習結果の転送\n",
        "学習結果は、/content/mycar/models/mypilot.h5に保存されます。  \n",
        "mypilot.h5をダブルクリックすると学習結果をダウンロードできます。  \n",
        "RaspberryPiの~/mycar/models/mypilot.h5に学習結果をコピーすることで、DonkeyCarの自動走行ができるようになります。\n",
        "\n",
        "![](https://faboplatform.github.io/DonkeyDocs/1.DonkeyCar3%E3%81%AE%E6%A7%8B%E7%AF%89/img/upload.png)"
      ]
    }
  ]
}
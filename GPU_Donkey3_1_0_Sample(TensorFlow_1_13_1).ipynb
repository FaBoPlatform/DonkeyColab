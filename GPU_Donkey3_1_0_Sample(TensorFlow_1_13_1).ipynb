{
  "nbformat": 4,
  "nbformat_minor": 0,
  "metadata": {
    "colab": {
      "name": "GPU_Donkey3_1_0_Sample(TensorFlow_1_13_1).ipynb",
      "provenance": [],
      "collapsed_sections": []
    },
    "kernelspec": {
      "name": "python3",
      "display_name": "Python 3"
    },
    "accelerator": "GPU"
  },
  "cells": [
    {
      "cell_type": "markdown",
      "metadata": {
        "colab_type": "text",
        "id": "BlmQIFSLZDdc"
      },
      "source": [
        "# Donkey Colab 3.1.0 with GPU(TensorFlow 1.13.1)\n",
        "\n",
        "Donkey Colab with GPU.\n",
        "- Version 0.1(2019年10月27日)\n",
        "- DonkeyCar version 3.1.0(最新版は3.1.1)\n",
        "- TensorFlow 1.13.1\n",
        "\n",
        "## 概要\n",
        "Google Colabを使用し、Donkey Carの学習を行います\n",
        "\n",
        "上からコードをを実行することで、以下のことができます\n",
        "- Google Colabの環境設定\n",
        "- 学習\n",
        "- 学習結果の取得  \n",
        "\n",
        "\n"
      ]
    },
    {
      "cell_type": "markdown",
      "metadata": {
        "id": "liQZb4cDmZgy",
        "colab_type": "text"
      },
      "source": [
        "# TensorFlowのインストール\n",
        "\n",
        "TensorFlowのVersionは、DonkeyCarのRaspberryPi3にはいっているバージョンと同じバージョンをインストールします。  \n",
        "Google Colabはデフォルトでtensorflow-1.14.0が入っています（2019年9月3日）。  \n",
        "なので一度アンインストールし、バージョンを揃えています。"
      ]
    },
    {
      "cell_type": "code",
      "metadata": {
        "id": "QSX76iKYmd_V",
        "colab_type": "code",
        "colab": {}
      },
      "source": [
        "!pip uninstall -y tensorflow\n",
        "!pip install tensorflow-gpu==1.13.1"
      ],
      "execution_count": 0,
      "outputs": []
    },
    {
      "cell_type": "markdown",
      "metadata": {
        "id": "G7OYRZhiBisA",
        "colab_type": "text"
      },
      "source": [
        "# TensorFlowのバージョン確認"
      ]
    },
    {
      "cell_type": "code",
      "metadata": {
        "id": "1lNo7WukBc-Y",
        "colab_type": "code",
        "colab": {}
      },
      "source": [
        "!pip freeze | grep -i -e tensorflow"
      ],
      "execution_count": 0,
      "outputs": []
    },
    {
      "cell_type": "markdown",
      "metadata": {
        "id": "arsH-DhLcihq",
        "colab_type": "text"
      },
      "source": [
        "# GPUの確認\n",
        "\n",
        "\"Found GPU at: /device:GPU:0\"と表示されれば、GPUが使用できる状態です。"
      ]
    },
    {
      "cell_type": "code",
      "metadata": {
        "id": "uQgEhuoTcg0N",
        "colab_type": "code",
        "colab": {}
      },
      "source": [
        "import tensorflow as tf\n",
        "device_name = tf.test.gpu_device_name()\n",
        "if device_name != '/device:GPU:0':\n",
        "  raise SystemError('GPU device not found')\n",
        "print('Found GPU at: {}'.format(device_name))"
      ],
      "execution_count": 0,
      "outputs": []
    },
    {
      "cell_type": "markdown",
      "metadata": {
        "id": "Ba2oPDIrsDFg",
        "colab_type": "text"
      },
      "source": [
        "# DonkeyCarのインストール"
      ]
    },
    {
      "cell_type": "code",
      "metadata": {
        "id": "oOxd9PFUyNxI",
        "colab_type": "code",
        "colab": {}
      },
      "source": [
        "!git clone https://github.com/autorope/donkeycar.git \n",
        "%cd donkeycar\n",
        "!git checkout ba0f7591aff582cee7370c2d9c2962f5cd393987\n",
        "!pip3 install -e .[pc]"
      ],
      "execution_count": 0,
      "outputs": []
    },
    {
      "cell_type": "markdown",
      "metadata": {
        "id": "syCctLq2r4Wk",
        "colab_type": "text"
      },
      "source": [
        "# DonkeyCarのProjectを作成"
      ]
    },
    {
      "cell_type": "code",
      "metadata": {
        "colab_type": "code",
        "id": "8MCHlAop6mES",
        "colab": {}
      },
      "source": [
        "!donkey createcar --path /content/mycar"
      ],
      "execution_count": 0,
      "outputs": []
    },
    {
      "cell_type": "markdown",
      "metadata": {
        "id": "dnUy1Z1zro77",
        "colab_type": "text"
      },
      "source": [
        "# datas.zipのアップロードとデータの解凍\n",
        "datas.zip（DonkeyCarで集めた学習用データ）をアップロードします。  \n",
        "下記コードを実行すると、ファイルのアップロード フォームが出現します。  \n",
        "\n",
        "ファイルは`/content/mycar/data/`以下に送信され、datas.zipの解凍を行っています"
      ]
    },
    {
      "cell_type": "code",
      "metadata": {
        "id": "nqB_I9dsxBoA",
        "colab_type": "code",
        "colab": {}
      },
      "source": [
        "import os\n",
        "from google.colab import files\n",
        "\n",
        "if(os.path.exists(\"/content/datas.zip\")):\n",
        "   os.remove(\"/content/datas.zip\")\n",
        "if(os.path.exists(\"/content/mycar/data/datas.zip\")):\n",
        "   os.remove(\"/content/mycar/data/datas.zip\")\n",
        "\n",
        "%cd /content/mycar/data/\n",
        "uploaded = files.upload()\n",
        "file_name = list(uploaded.keys())[0]\n",
        "file_path = \"/content/mycar/data/\" + file_name\n",
        "print(\"-----------------------------------------------------\")\n",
        "print(\"【処理結果】%sにデータをアップロードしました。\" % file_path)\n",
        "print(\"-----------------------------------------------------\")\n",
        "!unzip -o {file_path}"
      ],
      "execution_count": 0,
      "outputs": []
    },
    {
      "cell_type": "markdown",
      "metadata": {
        "id": "e-4fu_vD1j25",
        "colab_type": "text"
      },
      "source": [
        "#学習の開始\n",
        "\n",
        "Colabの環境構築が出来たので、DonkeyCarの学習を行います。\n",
        "<br>\n",
        "<br>\n",
        "学習の対象は、/content/mycar/data/に存在するフォルダ全部になります。\n"
      ]
    },
    {
      "cell_type": "code",
      "metadata": {
        "id": "K747mFXW1e7H",
        "colab_type": "code",
        "colab": {}
      },
      "source": [
        "type = \"linear\"\n",
        "trained_mode = \"/content/mycar/models/mypilot.h5\"\n",
        "\n",
        "%cd /content/mycar\n",
        "!python manage.py train --model={trained_mode} --type={type}"
      ],
      "execution_count": 0,
      "outputs": []
    },
    {
      "cell_type": "markdown",
      "metadata": {
        "id": "iWtc6q3LPHqP",
        "colab_type": "text"
      },
      "source": [
        "# 学習結果の転送\n",
        "学習結果は、/content/mycar/models/mypilot.h5に保存されます。  下記セルを実行し、H5ファイルをダウンロードします。\n",
        "\n",
        "RaspberryPiの~/mycar/models/mypilot.h5に学習結果をコピーすることで、DonkeyCarの自動走行ができるようになります。"
      ]
    },
    {
      "cell_type": "code",
      "metadata": {
        "id": "SmI6Vv0gEiZF",
        "colab_type": "code",
        "colab": {}
      },
      "source": [
        "from google.colab import files\n",
        "\n",
        "files.download('/content/mycar/models/mypilot.h5')"
      ],
      "execution_count": 0,
      "outputs": []
    },
    {
      "cell_type": "markdown",
      "metadata": {
        "id": "CX3I0ODMRhZR",
        "colab_type": "text"
      },
      "source": [
        "# 複数の指定タブを学習させる\n",
        "\n",
        "lsコマンドで、/content/mycar/dataに存在するデータセットのフォルダ名を確認し、フォルダ名を指定して、学習させます。\n",
        "\n",
        "tub_pathの部分を、自分のフォルダ名に合わせて、複数の指定タブで学習させます。"
      ]
    },
    {
      "cell_type": "code",
      "metadata": {
        "id": "H20sa9bQSPfk",
        "colab_type": "code",
        "colab": {}
      },
      "source": [
        "!ls /content/mycar/data"
      ],
      "execution_count": 0,
      "outputs": []
    },
    {
      "cell_type": "code",
      "metadata": {
        "id": "nynV4n0DEq3n",
        "colab_type": "code",
        "colab": {}
      },
      "source": [
        "model_type = \"linear\" # linear|categorical|rnn|imu|behavior|3d|localizer|latent\n",
        "trained_mode = \"/content/mycar/models/mypilot.h5\"\n",
        "tub_path = \"/content/mycar/data/tub_1_19_10_27,/content/mycar/data/tub_2_19_10_27\"\n",
        "\n",
        "%cd /content/mycar\n",
        "!python manage.py train --model={trained_mode} --type={model_type} --tub={tub_path}"
      ],
      "execution_count": 0,
      "outputs": []
    },
    {
      "cell_type": "code",
      "metadata": {
        "id": "eXZEobC3SXjH",
        "colab_type": "code",
        "colab": {}
      },
      "source": [
        ""
      ],
      "execution_count": 0,
      "outputs": []
    }
  ]
}
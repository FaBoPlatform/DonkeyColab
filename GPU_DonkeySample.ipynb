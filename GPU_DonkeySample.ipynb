{
  "nbformat": 4,
  "nbformat_minor": 0,
  "metadata": {
    "colab": {
      "name": "GPU DonkeySample",
      "version": "0.3.2",
      "provenance": [],
      "collapsed_sections": [],
      "toc_visible": true
    },
    "kernelspec": {
      "name": "python3",
      "display_name": "Python 3"
    },
    "accelerator": "GPU"
  },
  "cells": [
    {
      "metadata": {
        "colab_type": "text",
        "id": "BlmQIFSLZDdc"
      },
      "cell_type": "markdown",
      "source": [
        "# Donkey Colab with GPU\n",
        "\n",
        "Donkey Colab with GPU."
      ]
    },
    {
      "metadata": {
        "id": "oOxd9PFUyNxI",
        "colab_type": "code",
        "outputId": "70304f52-e651-4317-df95-4d4804f394f2",
        "colab": {
          "base_uri": "https://localhost:8080/",
          "height": 119
        }
      },
      "cell_type": "code",
      "source": [
        "!git clone -b dev https://github.com/autorope/donkeycar.git donkey"
      ],
      "execution_count": 0,
      "outputs": [
        {
          "output_type": "stream",
          "text": [
            "Cloning into 'donkey'...\n",
            "remote: Enumerating objects: 1, done.\u001b[K\n",
            "remote: Counting objects: 100% (1/1), done.\u001b[K\n",
            "remote: Total 6688 (delta 0), reused 0 (delta 0), pack-reused 6687\u001b[K\n",
            "Receiving objects: 100% (6688/6688), 41.53 MiB | 38.17 MiB/s, done.\n",
            "Resolving deltas: 100% (3853/3853), done.\n"
          ],
          "name": "stdout"
        }
      ]
    },
    {
      "metadata": {
        "id": "jz_PZgrByPDh",
        "colab_type": "code",
        "outputId": "7d88e23a-e770-4f84-de23-646ac08d875f",
        "colab": {
          "base_uri": "https://localhost:8080/",
          "height": 666
        }
      },
      "cell_type": "code",
      "source": [
        "!pip3 install -e donkey"
      ],
      "execution_count": 0,
      "outputs": [
        {
          "output_type": "stream",
          "text": [
            "Obtaining file:///content/donkey\n",
            "Requirement already satisfied: numpy in /usr/local/lib/python3.6/dist-packages (from donkeycar==2.5.7) (1.14.6)\n",
            "Requirement already satisfied: pillow in /usr/local/lib/python3.6/dist-packages (from donkeycar==2.5.7) (4.0.0)\n",
            "Requirement already satisfied: docopt in /usr/local/lib/python3.6/dist-packages (from donkeycar==2.5.7) (0.6.2)\n",
            "Requirement already satisfied: tornado==4.5.3 in /usr/local/lib/python3.6/dist-packages (from donkeycar==2.5.7) (4.5.3)\n",
            "Requirement already satisfied: requests in /usr/local/lib/python3.6/dist-packages (from donkeycar==2.5.7) (2.18.4)\n",
            "Requirement already satisfied: h5py in /usr/local/lib/python3.6/dist-packages (from donkeycar==2.5.7) (2.8.0)\n",
            "Requirement already satisfied: python-socketio in /usr/local/lib/python3.6/dist-packages (from donkeycar==2.5.7) (3.1.1)\n",
            "Requirement already satisfied: flask in /usr/local/lib/python3.6/dist-packages (from donkeycar==2.5.7) (1.0.2)\n",
            "Requirement already satisfied: eventlet in /usr/local/lib/python3.6/dist-packages (from donkeycar==2.5.7) (0.24.1)\n",
            "Requirement already satisfied: moviepy in /usr/local/lib/python3.6/dist-packages (from donkeycar==2.5.7) (0.2.3.5)\n",
            "Requirement already satisfied: pandas in /usr/local/lib/python3.6/dist-packages (from donkeycar==2.5.7) (0.22.0)\n",
            "Requirement already satisfied: olefile in /usr/local/lib/python3.6/dist-packages (from pillow->donkeycar==2.5.7) (0.46)\n",
            "Requirement already satisfied: idna<2.7,>=2.5 in /usr/local/lib/python3.6/dist-packages (from requests->donkeycar==2.5.7) (2.6)\n",
            "Requirement already satisfied: certifi>=2017.4.17 in /usr/local/lib/python3.6/dist-packages (from requests->donkeycar==2.5.7) (2018.11.29)\n",
            "Requirement already satisfied: chardet<3.1.0,>=3.0.2 in /usr/local/lib/python3.6/dist-packages (from requests->donkeycar==2.5.7) (3.0.4)\n",
            "Requirement already satisfied: urllib3<1.23,>=1.21.1 in /usr/local/lib/python3.6/dist-packages (from requests->donkeycar==2.5.7) (1.22)\n",
            "Requirement already satisfied: six in /usr/local/lib/python3.6/dist-packages (from h5py->donkeycar==2.5.7) (1.11.0)\n",
            "Requirement already satisfied: python-engineio>=3.2.0 in /usr/local/lib/python3.6/dist-packages (from python-socketio->donkeycar==2.5.7) (3.2.3)\n",
            "Requirement already satisfied: Werkzeug>=0.14 in /usr/local/lib/python3.6/dist-packages (from flask->donkeycar==2.5.7) (0.14.1)\n",
            "Requirement already satisfied: click>=5.1 in /usr/local/lib/python3.6/dist-packages (from flask->donkeycar==2.5.7) (7.0)\n",
            "Requirement already satisfied: itsdangerous>=0.24 in /usr/local/lib/python3.6/dist-packages (from flask->donkeycar==2.5.7) (1.1.0)\n",
            "Requirement already satisfied: Jinja2>=2.10 in /usr/local/lib/python3.6/dist-packages (from flask->donkeycar==2.5.7) (2.10)\n",
            "Requirement already satisfied: dnspython>=1.15.0 in /usr/local/lib/python3.6/dist-packages (from eventlet->donkeycar==2.5.7) (1.16.0)\n",
            "Requirement already satisfied: greenlet>=0.3 in /usr/local/lib/python3.6/dist-packages (from eventlet->donkeycar==2.5.7) (0.4.15)\n",
            "Requirement already satisfied: monotonic>=1.4 in /usr/local/lib/python3.6/dist-packages (from eventlet->donkeycar==2.5.7) (1.5)\n",
            "Requirement already satisfied: decorator<5.0,>=4.0.2 in /usr/local/lib/python3.6/dist-packages (from moviepy->donkeycar==2.5.7) (4.3.0)\n",
            "Requirement already satisfied: imageio<3.0,>=2.1.2 in /usr/local/lib/python3.6/dist-packages (from moviepy->donkeycar==2.5.7) (2.4.1)\n",
            "Requirement already satisfied: tqdm<5.0,>=4.11.2 in /usr/local/lib/python3.6/dist-packages (from moviepy->donkeycar==2.5.7) (4.28.1)\n",
            "Requirement already satisfied: pytz>=2011k in /usr/local/lib/python3.6/dist-packages (from pandas->donkeycar==2.5.7) (2018.9)\n",
            "Requirement already satisfied: python-dateutil>=2 in /usr/local/lib/python3.6/dist-packages (from pandas->donkeycar==2.5.7) (2.5.3)\n",
            "Requirement already satisfied: MarkupSafe>=0.23 in /usr/local/lib/python3.6/dist-packages (from Jinja2>=2.10->flask->donkeycar==2.5.7) (1.1.0)\n",
            "Installing collected packages: donkeycar\n",
            "  Found existing installation: donkeycar 2.5.7\n",
            "    Can't uninstall 'donkeycar'. No files were found to uninstall.\n",
            "  Running setup.py develop for donkeycar\n",
            "Successfully installed donkeycar\n"
          ],
          "name": "stdout"
        }
      ]
    },
    {
      "metadata": {
        "id": "1xjJBSITyXy2",
        "colab_type": "code",
        "outputId": "c7dc1e4d-e597-4f18-c39e-293f3774c773",
        "colab": {
          "base_uri": "https://localhost:8080/",
          "height": 187
        }
      },
      "cell_type": "code",
      "source": [
        "!donkey createcar --template donkey2  /content/mycar"
      ],
      "execution_count": 0,
      "outputs": [
        {
          "output_type": "stream",
          "text": [
            "using donkey version: 2.5.7 ...\n",
            "Creating car folder: /content/mycar\n",
            "making dir  /content/mycar\n",
            "Creating data & model folders.\n",
            "making dir  /content/mycar/models\n",
            "making dir  /content/mycar/data\n",
            "making dir  /content/mycar/logs\n",
            "Car app already exists. Delete it and rerun createcar to replace.\n",
            "Car config already exists. Delete it and rerun createcar to replace.\n",
            "Donkey setup complete.\n"
          ],
          "name": "stdout"
        }
      ]
    },
    {
      "metadata": {
        "id": "ivtuGckZuu-d",
        "colab_type": "code",
        "colab": {
          "base_uri": "https://localhost:8080/",
          "height": 85
        },
        "outputId": "984d1911-9dfa-425b-cb7e-c4be0007dca4"
      },
      "cell_type": "code",
      "source": [
        "!mkdir /content/mycar/data/tub001\n",
        "\n",
        "!mv datas.zip /content/mycar/data/tub001/"
      ],
      "execution_count": 39,
      "outputs": [
        {
          "output_type": "stream",
          "text": [
            "mkdir: cannot create directory ‘/content/mycar/data/tub001’: File exists\n",
            "mv: 'datas.zip' and '/content/mycar/data/tub001/datas.zip' are the same file\n",
            "/content/tub001\n",
            "unzip:  cannot find or open datas001.zip, datas001.zip.zip or datas001.zip.ZIP.\n"
          ],
          "name": "stdout"
        }
      ]
    },
    {
      "metadata": {
        "id": "ChBzJ1rS9Dmi",
        "colab_type": "code",
        "colab": {
          "base_uri": "https://localhost:8080/",
          "height": 51
        },
        "outputId": "21d0419e-9453-4881-9ad9-3410fb33edc8"
      },
      "cell_type": "code",
      "source": [
        "%cd /content/mycar/data/tub001\n",
        "\n",
        "!unzip datas001.zip"
      ],
      "execution_count": 45,
      "outputs": [
        {
          "output_type": "stream",
          "text": [
            "/content/mycar/data/tub001\n",
            "unzip:  cannot find or open datas001.zip, datas001.zip.zip or datas001.zip.ZIP.\n"
          ],
          "name": "stdout"
        }
      ]
    },
    {
      "metadata": {
        "id": "p6HUYT_e9g20",
        "colab_type": "code",
        "colab": {
          "base_uri": "https://localhost:8080/",
          "height": 1922
        },
        "outputId": "5c331620-0c2c-4e1c-b780-b436730bc1e6"
      },
      "cell_type": "code",
      "source": [
        "#!/usr/bin/env python3\n",
        "\n",
        "import os\n",
        "\n",
        "from docopt import docopt\n",
        "import donkeycar as dk\n",
        "import tensorflow as tf\n",
        "from donkeycar.parts.camera import PiCamera\n",
        "from donkeycar.parts.transform import Lambda\n",
        "from donkeycar.parts.keras import KerasLinear\n",
        "from donkeycar.parts.actuator import PCA9685, PWMSteering, PWMThrottle\n",
        "from donkeycar.parts.datastore import TubGroup, TubWriter\n",
        "from donkeycar.parts.web_controller import LocalWebController\n",
        "from donkeycar.parts.clock import Timestamp\n",
        "from donkeycar.parts.datastore import TubGroup, TubWriter\n",
        "from donkeycar.parts.keras import KerasLinear\n",
        "from donkeycar.parts.transform import Lambda\n",
        "\n",
        "\n",
        "def train(cfg, tub_names, new_model_path, base_model_path=None):\n",
        "    \"\"\"\n",
        "    use the specified data in tub_names to train an artifical neural network\n",
        "    saves the output trained model as model_name\n",
        "    \"\"\"\n",
        "    X_keys = ['cam/image_array']\n",
        "    y_keys = ['user/angle', 'user/throttle']\n",
        "\n",
        "    new_model_path = os.path.expanduser(new_model_path)\n",
        "\n",
        "    kl = KerasLinear()\n",
        "    if base_model_path is not None:\n",
        "        base_model_path = os.path.expanduser(base_model_path)\n",
        "        kl.load(base_model_path)\n",
        "\n",
        "    print('tub_names', tub_names)\n",
        "    if not tub_names:\n",
        "        tub_names = os.path.join(\"/content/mycar/data/\", '*')\n",
        "    tubgroup = TubGroup(tub_names)\n",
        "    train_gen, val_gen = tubgroup.get_train_val_gen(X_keys, y_keys,\n",
        "                                                    batch_size=128,\n",
        "                                                    train_frac=0.8)\n",
        "\n",
        "    total_records = len(tubgroup.df)\n",
        "    total_train = int(total_records * 0.8)\n",
        "    total_val = total_records - total_train\n",
        "    print('train: %d, validation: %d' % (total_train, total_val))\n",
        "    steps_per_epoch = total_train //128\n",
        "    print('steps_per_epoch', steps_per_epoch)\n",
        "\n",
        "    kl.train(train_gen,\n",
        "             val_gen,\n",
        "             saved_model_path=new_model_path,\n",
        "             steps=steps_per_epoch,\n",
        "             train_split=0.8)\n",
        "\n",
        "\n",
        "if __name__ == '__main__':\n",
        "    with tf.device('/gpu:0'):\n",
        "      cfg = None\n",
        "\n",
        "      tub = None\n",
        "      new_model_path = \"/content/mycar/models/mypilot\"\n",
        "      base_model_path = None\n",
        "      cache = None\n",
        "      train(cfg, tub, new_model_path, base_model_path)"
      ],
      "execution_count": 46,
      "outputs": [
        {
          "output_type": "stream",
          "text": [
            "tub_names None\n",
            "train: 1626, validation: 407\n",
            "steps_per_epoch 12\n",
            "Epoch 1/100\n",
            "11/12 [==========================>...] - ETA: 0s - loss: 72.7476 - angle_out_loss: 127.1892 - throttle_out_loss: 18.3060\n",
            "Epoch 00001: val_loss improved from inf to 0.48132, saving model to /content/mycar/models/mypilot\n",
            "12/12 [==============================] - 8s 680ms/step - loss: 66.7440 - angle_out_loss: 116.6473 - throttle_out_loss: 16.8408 - val_loss: 0.4813 - val_angle_out_loss: 0.7452 - val_throttle_out_loss: 0.2174\n",
            "Epoch 2/100\n",
            "11/12 [==========================>...] - ETA: 0s - loss: 0.2371 - angle_out_loss: 0.2787 - throttle_out_loss: 0.1955\n",
            "Epoch 00002: val_loss improved from 0.48132 to 0.10142, saving model to /content/mycar/models/mypilot\n",
            "12/12 [==============================] - 3s 212ms/step - loss: 0.2295 - angle_out_loss: 0.2721 - throttle_out_loss: 0.1869 - val_loss: 0.1014 - val_angle_out_loss: 0.1002 - val_throttle_out_loss: 0.1026\n",
            "Epoch 3/100\n",
            "11/12 [==========================>...] - ETA: 0s - loss: 0.1157 - angle_out_loss: 0.1371 - throttle_out_loss: 0.0944\n",
            "Epoch 00003: val_loss improved from 0.10142 to 0.09863, saving model to /content/mycar/models/mypilot\n",
            "12/12 [==============================] - 3s 252ms/step - loss: 0.1147 - angle_out_loss: 0.1378 - throttle_out_loss: 0.0917 - val_loss: 0.0986 - val_angle_out_loss: 0.1309 - val_throttle_out_loss: 0.0664\n",
            "Epoch 4/100\n",
            "11/12 [==========================>...] - ETA: 0s - loss: 0.0974 - angle_out_loss: 0.1220 - throttle_out_loss: 0.0729\n",
            "Epoch 00004: val_loss did not improve from 0.09863\n",
            "12/12 [==============================] - 3s 261ms/step - loss: 0.0970 - angle_out_loss: 0.1206 - throttle_out_loss: 0.0733 - val_loss: 0.1057 - val_angle_out_loss: 0.1311 - val_throttle_out_loss: 0.0804\n",
            "Epoch 5/100\n",
            "11/12 [==========================>...] - ETA: 0s - loss: 0.0860 - angle_out_loss: 0.1099 - throttle_out_loss: 0.0621\n",
            "Epoch 00005: val_loss improved from 0.09863 to 0.08567, saving model to /content/mycar/models/mypilot\n",
            "12/12 [==============================] - 3s 267ms/step - loss: 0.0864 - angle_out_loss: 0.1112 - throttle_out_loss: 0.0616 - val_loss: 0.0857 - val_angle_out_loss: 0.1004 - val_throttle_out_loss: 0.0709\n",
            "Epoch 6/100\n",
            "11/12 [==========================>...] - ETA: 0s - loss: 0.0734 - angle_out_loss: 0.0950 - throttle_out_loss: 0.0517\n",
            "Epoch 00006: val_loss improved from 0.08567 to 0.07863, saving model to /content/mycar/models/mypilot\n",
            "12/12 [==============================] - 3s 265ms/step - loss: 0.0711 - angle_out_loss: 0.0912 - throttle_out_loss: 0.0510 - val_loss: 0.0786 - val_angle_out_loss: 0.0896 - val_throttle_out_loss: 0.0677\n",
            "Epoch 7/100\n",
            "11/12 [==========================>...] - ETA: 0s - loss: 0.0658 - angle_out_loss: 0.0889 - throttle_out_loss: 0.0427\n",
            "Epoch 00007: val_loss improved from 0.07863 to 0.06603, saving model to /content/mycar/models/mypilot\n",
            "12/12 [==============================] - 3s 266ms/step - loss: 0.0650 - angle_out_loss: 0.0878 - throttle_out_loss: 0.0423 - val_loss: 0.0660 - val_angle_out_loss: 0.0814 - val_throttle_out_loss: 0.0506\n",
            "Epoch 8/100\n",
            "11/12 [==========================>...] - ETA: 0s - loss: 0.0533 - angle_out_loss: 0.0723 - throttle_out_loss: 0.0343\n",
            "Epoch 00008: val_loss improved from 0.06603 to 0.05827, saving model to /content/mycar/models/mypilot\n",
            "12/12 [==============================] - 4s 296ms/step - loss: 0.0528 - angle_out_loss: 0.0711 - throttle_out_loss: 0.0345 - val_loss: 0.0583 - val_angle_out_loss: 0.0740 - val_throttle_out_loss: 0.0425\n",
            "Epoch 9/100\n",
            "11/12 [==========================>...] - ETA: 0s - loss: 0.0526 - angle_out_loss: 0.0697 - throttle_out_loss: 0.0356\n",
            "Epoch 00009: val_loss improved from 0.05827 to 0.05566, saving model to /content/mycar/models/mypilot\n",
            "12/12 [==============================] - 3s 262ms/step - loss: 0.0512 - angle_out_loss: 0.0680 - throttle_out_loss: 0.0344 - val_loss: 0.0557 - val_angle_out_loss: 0.0724 - val_throttle_out_loss: 0.0389\n",
            "Epoch 10/100\n",
            "11/12 [==========================>...] - ETA: 0s - loss: 0.0399 - angle_out_loss: 0.0539 - throttle_out_loss: 0.0259\n",
            "Epoch 00010: val_loss improved from 0.05566 to 0.04259, saving model to /content/mycar/models/mypilot\n",
            "12/12 [==============================] - 3s 265ms/step - loss: 0.0390 - angle_out_loss: 0.0525 - throttle_out_loss: 0.0255 - val_loss: 0.0426 - val_angle_out_loss: 0.0508 - val_throttle_out_loss: 0.0344\n",
            "Epoch 11/100\n",
            "11/12 [==========================>...] - ETA: 0s - loss: 0.0330 - angle_out_loss: 0.0419 - throttle_out_loss: 0.0240\n",
            "Epoch 00011: val_loss improved from 0.04259 to 0.04206, saving model to /content/mycar/models/mypilot\n",
            "12/12 [==============================] - 3s 265ms/step - loss: 0.0334 - angle_out_loss: 0.0431 - throttle_out_loss: 0.0237 - val_loss: 0.0421 - val_angle_out_loss: 0.0519 - val_throttle_out_loss: 0.0323\n",
            "Epoch 12/100\n",
            "11/12 [==========================>...] - ETA: 0s - loss: 0.0301 - angle_out_loss: 0.0400 - throttle_out_loss: 0.0202\n",
            "Epoch 00012: val_loss did not improve from 0.04206\n",
            "12/12 [==============================] - 3s 261ms/step - loss: 0.0300 - angle_out_loss: 0.0393 - throttle_out_loss: 0.0208 - val_loss: 0.0467 - val_angle_out_loss: 0.0619 - val_throttle_out_loss: 0.0314\n",
            "Epoch 13/100\n",
            "11/12 [==========================>...] - ETA: 0s - loss: 0.0266 - angle_out_loss: 0.0332 - throttle_out_loss: 0.0200\n",
            "Epoch 00013: val_loss improved from 0.04206 to 0.03948, saving model to /content/mycar/models/mypilot\n",
            "12/12 [==============================] - 3s 266ms/step - loss: 0.0260 - angle_out_loss: 0.0325 - throttle_out_loss: 0.0195 - val_loss: 0.0395 - val_angle_out_loss: 0.0493 - val_throttle_out_loss: 0.0296\n",
            "Epoch 14/100\n",
            "11/12 [==========================>...] - ETA: 0s - loss: 0.0225 - angle_out_loss: 0.0275 - throttle_out_loss: 0.0175\n",
            "Epoch 00014: val_loss did not improve from 0.03948\n",
            "12/12 [==============================] - 3s 258ms/step - loss: 0.0224 - angle_out_loss: 0.0278 - throttle_out_loss: 0.0171 - val_loss: 0.0448 - val_angle_out_loss: 0.0555 - val_throttle_out_loss: 0.0341\n",
            "Epoch 15/100\n",
            "11/12 [==========================>...] - ETA: 0s - loss: 0.0219 - angle_out_loss: 0.0265 - throttle_out_loss: 0.0174\n",
            "Epoch 00015: val_loss did not improve from 0.03948\n",
            "12/12 [==============================] - 3s 261ms/step - loss: 0.0220 - angle_out_loss: 0.0265 - throttle_out_loss: 0.0176 - val_loss: 0.0429 - val_angle_out_loss: 0.0446 - val_throttle_out_loss: 0.0413\n",
            "Epoch 16/100\n",
            "10/12 [========================>.....] - ETA: 0s - loss: 0.0177 - angle_out_loss: 0.0219 - throttle_out_loss: 0.0135"
          ],
          "name": "stdout"
        },
        {
          "output_type": "error",
          "ename": "KeyboardInterrupt",
          "evalue": "ignored",
          "traceback": [
            "\u001b[0;31m---------------------------------------------------------------------------\u001b[0m",
            "\u001b[0;31mKeyboardInterrupt\u001b[0m                         Traceback (most recent call last)",
            "\u001b[0;32m<ipython-input-46-5ecacd546682>\u001b[0m in \u001b[0;36m<module>\u001b[0;34m()\u001b[0m\n\u001b[1;32m     62\u001b[0m       \u001b[0mbase_model_path\u001b[0m \u001b[0;34m=\u001b[0m \u001b[0;32mNone\u001b[0m\u001b[0;34m\u001b[0m\u001b[0;34m\u001b[0m\u001b[0m\n\u001b[1;32m     63\u001b[0m       \u001b[0mcache\u001b[0m \u001b[0;34m=\u001b[0m \u001b[0;32mNone\u001b[0m\u001b[0;34m\u001b[0m\u001b[0;34m\u001b[0m\u001b[0m\n\u001b[0;32m---> 64\u001b[0;31m       \u001b[0mtrain\u001b[0m\u001b[0;34m(\u001b[0m\u001b[0mcfg\u001b[0m\u001b[0;34m,\u001b[0m \u001b[0mtub\u001b[0m\u001b[0;34m,\u001b[0m \u001b[0mnew_model_path\u001b[0m\u001b[0;34m,\u001b[0m \u001b[0mbase_model_path\u001b[0m\u001b[0;34m)\u001b[0m\u001b[0;34m\u001b[0m\u001b[0;34m\u001b[0m\u001b[0m\n\u001b[0m",
            "\u001b[0;32m<ipython-input-46-5ecacd546682>\u001b[0m in \u001b[0;36mtrain\u001b[0;34m(cfg, tub_names, new_model_path, base_model_path)\u001b[0m\n\u001b[1;32m     51\u001b[0m              \u001b[0msaved_model_path\u001b[0m\u001b[0;34m=\u001b[0m\u001b[0mnew_model_path\u001b[0m\u001b[0;34m,\u001b[0m\u001b[0;34m\u001b[0m\u001b[0;34m\u001b[0m\u001b[0m\n\u001b[1;32m     52\u001b[0m              \u001b[0msteps\u001b[0m\u001b[0;34m=\u001b[0m\u001b[0msteps_per_epoch\u001b[0m\u001b[0;34m,\u001b[0m\u001b[0;34m\u001b[0m\u001b[0;34m\u001b[0m\u001b[0m\n\u001b[0;32m---> 53\u001b[0;31m              train_split=0.8)\n\u001b[0m\u001b[1;32m     54\u001b[0m \u001b[0;34m\u001b[0m\u001b[0m\n\u001b[1;32m     55\u001b[0m \u001b[0;34m\u001b[0m\u001b[0m\n",
            "\u001b[0;32m/content/donkey/donkeycar/parts/keras.py\u001b[0m in \u001b[0;36mtrain\u001b[0;34m(self, train_gen, val_gen, saved_model_path, epochs, steps, train_split, verbose, min_delta, patience, use_early_stop)\u001b[0m\n\u001b[1;32m     56\u001b[0m             \u001b[0mvalidation_data\u001b[0m\u001b[0;34m=\u001b[0m\u001b[0mval_gen\u001b[0m\u001b[0;34m,\u001b[0m\u001b[0;34m\u001b[0m\u001b[0;34m\u001b[0m\u001b[0m\n\u001b[1;32m     57\u001b[0m             \u001b[0mcallbacks\u001b[0m\u001b[0;34m=\u001b[0m\u001b[0mcallbacks_list\u001b[0m\u001b[0;34m,\u001b[0m\u001b[0;34m\u001b[0m\u001b[0;34m\u001b[0m\u001b[0m\n\u001b[0;32m---> 58\u001b[0;31m             validation_steps=steps * (1.0 - train_split) / train_split)\n\u001b[0m\u001b[1;32m     59\u001b[0m         \u001b[0;32mreturn\u001b[0m \u001b[0mhist\u001b[0m\u001b[0;34m\u001b[0m\u001b[0;34m\u001b[0m\u001b[0m\n\u001b[1;32m     60\u001b[0m \u001b[0;34m\u001b[0m\u001b[0m\n",
            "\u001b[0;32m/usr/local/lib/python3.6/dist-packages/tensorflow/python/keras/engine/training.py\u001b[0m in \u001b[0;36mfit_generator\u001b[0;34m(self, generator, steps_per_epoch, epochs, verbose, callbacks, validation_data, validation_steps, class_weight, max_queue_size, workers, use_multiprocessing, shuffle, initial_epoch)\u001b[0m\n\u001b[1;32m   2175\u001b[0m         \u001b[0muse_multiprocessing\u001b[0m\u001b[0;34m=\u001b[0m\u001b[0muse_multiprocessing\u001b[0m\u001b[0;34m,\u001b[0m\u001b[0;34m\u001b[0m\u001b[0;34m\u001b[0m\u001b[0m\n\u001b[1;32m   2176\u001b[0m         \u001b[0mshuffle\u001b[0m\u001b[0;34m=\u001b[0m\u001b[0mshuffle\u001b[0m\u001b[0;34m,\u001b[0m\u001b[0;34m\u001b[0m\u001b[0;34m\u001b[0m\u001b[0m\n\u001b[0;32m-> 2177\u001b[0;31m         initial_epoch=initial_epoch)\n\u001b[0m\u001b[1;32m   2178\u001b[0m \u001b[0;34m\u001b[0m\u001b[0m\n\u001b[1;32m   2179\u001b[0m   def evaluate_generator(self,\n",
            "\u001b[0;32m/usr/local/lib/python3.6/dist-packages/tensorflow/python/keras/engine/training_generator.py\u001b[0m in \u001b[0;36mfit_generator\u001b[0;34m(model, generator, steps_per_epoch, epochs, verbose, callbacks, validation_data, validation_steps, class_weight, max_queue_size, workers, use_multiprocessing, shuffle, initial_epoch)\u001b[0m\n\u001b[1;32m    145\u001b[0m       \u001b[0mbatch_index\u001b[0m \u001b[0;34m=\u001b[0m \u001b[0;36m0\u001b[0m\u001b[0;34m\u001b[0m\u001b[0;34m\u001b[0m\u001b[0m\n\u001b[1;32m    146\u001b[0m       \u001b[0;32mwhile\u001b[0m \u001b[0msteps_done\u001b[0m \u001b[0;34m<\u001b[0m \u001b[0msteps_per_epoch\u001b[0m\u001b[0;34m:\u001b[0m\u001b[0;34m\u001b[0m\u001b[0;34m\u001b[0m\u001b[0m\n\u001b[0;32m--> 147\u001b[0;31m         \u001b[0mgenerator_output\u001b[0m \u001b[0;34m=\u001b[0m \u001b[0mnext\u001b[0m\u001b[0;34m(\u001b[0m\u001b[0moutput_generator\u001b[0m\u001b[0;34m)\u001b[0m\u001b[0;34m\u001b[0m\u001b[0;34m\u001b[0m\u001b[0m\n\u001b[0m\u001b[1;32m    148\u001b[0m \u001b[0;34m\u001b[0m\u001b[0m\n\u001b[1;32m    149\u001b[0m         \u001b[0;32mif\u001b[0m \u001b[0;32mnot\u001b[0m \u001b[0mhasattr\u001b[0m\u001b[0;34m(\u001b[0m\u001b[0mgenerator_output\u001b[0m\u001b[0;34m,\u001b[0m \u001b[0;34m'__len__'\u001b[0m\u001b[0;34m)\u001b[0m\u001b[0;34m:\u001b[0m\u001b[0;34m\u001b[0m\u001b[0;34m\u001b[0m\u001b[0m\n",
            "\u001b[0;32m/usr/local/lib/python3.6/dist-packages/tensorflow/python/keras/utils/data_utils.py\u001b[0m in \u001b[0;36mget\u001b[0;34m(self)\u001b[0m\n\u001b[1;32m    823\u001b[0m           \u001b[0;32mraise\u001b[0m \u001b[0mStopIteration\u001b[0m\u001b[0;34m(\u001b[0m\u001b[0;34m)\u001b[0m\u001b[0;34m\u001b[0m\u001b[0;34m\u001b[0m\u001b[0m\n\u001b[1;32m    824\u001b[0m         \u001b[0;32melse\u001b[0m\u001b[0;34m:\u001b[0m\u001b[0;34m\u001b[0m\u001b[0;34m\u001b[0m\u001b[0m\n\u001b[0;32m--> 825\u001b[0;31m           \u001b[0mtime\u001b[0m\u001b[0;34m.\u001b[0m\u001b[0msleep\u001b[0m\u001b[0;34m(\u001b[0m\u001b[0mself\u001b[0m\u001b[0;34m.\u001b[0m\u001b[0mwait_time\u001b[0m\u001b[0;34m)\u001b[0m\u001b[0;34m\u001b[0m\u001b[0;34m\u001b[0m\u001b[0m\n\u001b[0m\u001b[1;32m    826\u001b[0m \u001b[0;34m\u001b[0m\u001b[0m\n\u001b[1;32m    827\u001b[0m     \u001b[0;31m# Make sure to rethrow the first exception in the queue, if any\u001b[0m\u001b[0;34m\u001b[0m\u001b[0;34m\u001b[0m\u001b[0;34m\u001b[0m\u001b[0m\n",
            "\u001b[0;31mKeyboardInterrupt\u001b[0m: "
          ]
        }
      ]
    },
    {
      "metadata": {
        "id": "05dcVZ9o-C1E",
        "colab_type": "code",
        "colab": {}
      },
      "cell_type": "code",
      "source": [
        ""
      ],
      "execution_count": 0,
      "outputs": []
    }
  ]
}
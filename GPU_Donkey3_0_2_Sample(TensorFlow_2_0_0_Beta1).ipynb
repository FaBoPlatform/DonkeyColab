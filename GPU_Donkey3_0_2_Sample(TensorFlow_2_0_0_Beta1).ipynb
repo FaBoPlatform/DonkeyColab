{
  "nbformat": 4,
  "nbformat_minor": 0,
  "metadata": {
    "colab": {
      "name": "GPU DonkeySample(TensorFlow 2.0.0 Alpha0)",
      "version": "0.3.2",
      "provenance": [],
      "collapsed_sections": [],
      "toc_visible": true
    },
    "kernelspec": {
      "name": "python3",
      "display_name": "Python 3"
    },
    "accelerator": "GPU"
  },
  "cells": [
    {
      "cell_type": "markdown",
      "metadata": {
        "colab_type": "text",
        "id": "BlmQIFSLZDdc"
      },
      "source": [
        "# Donkey Colab 3.0.2 with GPU(TensorFlow 2.0.0 Beta1)\n",
        "\n",
        "Donkey Colab with GPU.\n",
        "- Version 0.1(2019年7月16日)\n",
        "- Version 0.1(2019年7月12日)"
      ]
    },
    {
      "cell_type": "markdown",
      "metadata": {
        "id": "liQZb4cDmZgy",
        "colab_type": "text"
      },
      "source": [
        "# TensorFlowを2.0.0 Beta1にUpdate\n",
        "\n",
        "TensorFlowのVersionは、DonkeyCarのRaspberryPi3にはいっているバージョンと同じバージョンを構築します。"
      ]
    },
    {
      "cell_type": "code",
      "metadata": {
        "id": "QSX76iKYmd_V",
        "colab_type": "code",
        "colab": {}
      },
      "source": [
        "!pip install tensorflow-gpu==2.0.0-Beta1"
      ],
      "execution_count": 0,
      "outputs": []
    },
    {
      "cell_type": "markdown",
      "metadata": {
        "id": "arsH-DhLcihq",
        "colab_type": "text"
      },
      "source": [
        "# GPUの割り振りを確認\n",
        "\n",
        "\"Found GPU at: /device:GPU:0\"と表示されれば、GPUが使用できる状態です。"
      ]
    },
    {
      "cell_type": "code",
      "metadata": {
        "id": "uQgEhuoTcg0N",
        "colab_type": "code",
        "colab": {}
      },
      "source": [
        "import tensorflow as tf\n",
        "device_name = tf.test.gpu_device_name()\n",
        "if device_name != '/device:GPU:0':\n",
        "  raise SystemError('GPU device not found')\n",
        "print('Found GPU at: {}'.format(device_name))"
      ],
      "execution_count": 0,
      "outputs": []
    },
    {
      "cell_type": "markdown",
      "metadata": {
        "id": "Ba2oPDIrsDFg",
        "colab_type": "text"
      },
      "source": [
        "# DonkeyレポジトリをGit clone"
      ]
    },
    {
      "cell_type": "code",
      "metadata": {
        "id": "oOxd9PFUyNxI",
        "colab_type": "code",
        "colab": {}
      },
      "source": [
        "!git clone https://github.com/FaBoPlatform/donkeycar donkey"
      ],
      "execution_count": 0,
      "outputs": []
    },
    {
      "cell_type": "markdown",
      "metadata": {
        "id": "9TkkcF-gsAnx",
        "colab_type": "text"
      },
      "source": [
        "# インストール"
      ]
    },
    {
      "cell_type": "code",
      "metadata": {
        "id": "jz_PZgrByPDh",
        "colab_type": "code",
        "colab": {}
      },
      "source": [
        "%cd /content/\n",
        "!pip3 install -e donkey"
      ],
      "execution_count": 0,
      "outputs": []
    },
    {
      "cell_type": "markdown",
      "metadata": {
        "id": "syCctLq2r4Wk",
        "colab_type": "text"
      },
      "source": [
        "# Projectの作成"
      ]
    },
    {
      "cell_type": "code",
      "metadata": {
        "colab_type": "code",
        "id": "8MCHlAop6mES",
        "colab": {}
      },
      "source": [
        "!donkey createcar --path /content/mycar"
      ],
      "execution_count": 0,
      "outputs": []
    },
    {
      "cell_type": "markdown",
      "metadata": {
        "id": "dnUy1Z1zro77",
        "colab_type": "text"
      },
      "source": [
        "# datas.zipのアップロードとデータの解凍\n",
        "下記コードを実行すると、ファイルのアップロード フォームが出現します。datas.zipをアップリードします。\n",
        "\n",
        "datas.zipは、/content以下にアップされます。mv コマンドで、/content/mycar/dataに移動し、解凍します。"
      ]
    },
    {
      "cell_type": "code",
      "metadata": {
        "id": "nqB_I9dsxBoA",
        "colab_type": "code",
        "colab": {}
      },
      "source": [
        "import os\n",
        "from google.colab import files\n",
        "\n",
        "if(os.path.exists(\"/content/datas.zip\")):\n",
        "   os.remove(\"/content/datas.zip\")\n",
        "if(os.path.exists(\"/content/mycar/data/datas.zip\")):\n",
        "   os.remove(\"/content/mycar/data/datas.zip\")\n",
        "   \n",
        "uploaded = files.upload()\n",
        "\n",
        "WORK_FOLDER = \"/content/mycar/data/\"\n",
        "if(os.path.exists(WORK_FOLDER) == False):\n",
        "  os.makedirs(WORK_FOLDER)\n",
        "\n",
        "!mv /content/datas.zip /content/mycar/data/\n",
        "%cd /content/mycar/data/\n",
        "!unzip -o datas.zip"
      ],
      "execution_count": 0,
      "outputs": []
    },
    {
      "cell_type": "markdown",
      "metadata": {
        "id": "IXL2GbRKajG-",
        "colab_type": "text"
      },
      "source": [
        "# ランタイムの再起動\n",
        "\n",
        "Colabメニューの**[ランタイム]-[ランタイムの再起動]**して、ライブラリを取り込みます。\n",
        "\n",
        "![代替テキスト](https://faboplatform.github.io/DonkeyDocs/0.DonkeyCar3%E3%81%AE%E6%A7%8B%E7%AF%89/img/co001.png)\n",
        "\n",
        "![代替テキスト](https://faboplatform.github.io/DonkeyDocs/0.DonkeyCar3%E3%81%AE%E6%A7%8B%E7%AF%89/img/co002.png)"
      ]
    },
    {
      "cell_type": "markdown",
      "metadata": {
        "id": "llH7e-J7sJ5g",
        "colab_type": "text"
      },
      "source": [
        "# 学習用のScriptをImport\n",
        "\n",
        "DonkeyCarの学習用のScriptを読み込みます。\n"
      ]
    },
    {
      "cell_type": "code",
      "metadata": {
        "id": "p6HUYT_e9g20",
        "colab_type": "code",
        "colab": {}
      },
      "source": [
        "#!/usr/bin/env python3\n",
        "\n",
        "import os\n",
        "\n",
        "from docopt import docopt\n",
        "import donkeycar as dk\n",
        "import tensorflow as tf\n",
        "from donkeycar.templates.train import multi_train\n",
        "from donkeycar.parts.transform import Lambda\n",
        "from donkeycar.parts.keras import KerasLinear\n",
        "from donkeycar.parts.actuator import PCA9685, PWMSteering, PWMThrottle\n",
        "from donkeycar.parts.datastore import TubGroup, TubWriter\n",
        "\n",
        "from donkeycar.parts.datastore import TubGroup, TubWriter\n",
        "from donkeycar.parts.keras import KerasLinear\n",
        "from donkeycar.parts.transform import Lambda\n",
        "\n"
      ],
      "execution_count": 0,
      "outputs": []
    },
    {
      "cell_type": "markdown",
      "metadata": {
        "id": "e-4fu_vD1j25",
        "colab_type": "text"
      },
      "source": [
        "#学習の開始\n",
        "\n",
        "ブラウザの右側のWindowの[目次]-[コードスニペット]-[ファイル]のタブから[ファイル]タブを選択し、mycar/data以下にアップロードされたフォルダ名を確認します。\n",
        "\n",
        "![代替テキスト](https://faboplatform.github.io/DonkeyDocs/0.DonkeyCar3%E3%81%AE%E6%A7%8B%E7%AF%89/img/co003.png)\n",
        "\n",
        "下記学習例では、model_typeをcategoricalに指定しているので、DonkeyCar側 RaspberryPi3の~/mycar/myconfig.py のDEFAULT_MODEL_TYPEもコメントアウトを外し、categoricalに指定します。\n",
        "\n",
        "\n",
        "~/mycar/myconfig.py(DonkeyCar)\n",
        "\n",
        "\n",
        "---\n",
        "\n",
        "```\n",
        "DEFAULT_MODEL_TYPE=\"categotical\"\n",
        "```\n",
        "\n",
        "---\n",
        "\n",
        "\n"
      ]
    },
    {
      "cell_type": "code",
      "metadata": {
        "id": "K747mFXW1e7H",
        "colab_type": "code",
        "colab": {}
      },
      "source": [
        "import tensorflow as tf\n",
        "with tf.device('/gpu:0'):\n",
        "  cfg = dk.load_config()\n",
        "  # tubはアップロードしたフォルダ名を配列形式で指定(書き換え必須)\n",
        "  # 下記では、/content/mycar/data/tub_4_19-07-12と/content/mycar/data/tub_6_19-07-12の2つを学習対象にしている\n",
        "  tub = [\"/content/mycar/data/tub_4_19-07-12\",\"/content/mycar/data/tub_6_19-07-12\"] \n",
        "  model =  \"/content/mycar/models/mypilot.h5\"\n",
        "  transfer = None\n",
        "  # model typeもRaspberryPi3側と合わせる必要がある\n",
        "  model_type = \"categorical\"  # linear, categorical, rnn, imu, behavior, 3dを指定できます\n",
        "  continuous = None\n",
        "  aug = None\n",
        "    \n",
        "  multi_train(cfg, tub, model, transfer, model_type, continuous, aug)\n"
      ],
      "execution_count": 0,
      "outputs": []
    },
    {
      "cell_type": "markdown",
      "metadata": {
        "id": "iWtc6q3LPHqP",
        "colab_type": "text"
      },
      "source": [
        "# 学習結果の転送\n",
        "学習結果は、/content/mycar/models/mypilot.h5に保存されます。\n",
        "mypilotをダブルクリックしローカルにダウンロードし、SSHでRaspberryPiの~/mycar/models/mypilotにコピーします。\n",
        "\n",
        "![](https://faboplatform.github.io/DonkeyDocs/0.DonkeyCar3%E3%81%AE%E6%A7%8B%E7%AF%89/img/upload.png)"
      ]
    },
    {
      "cell_type": "code",
      "metadata": {
        "id": "gRjXMUnmICS_",
        "colab_type": "code",
        "colab": {}
      },
      "source": [
        ""
      ],
      "execution_count": 0,
      "outputs": []
    }
  ]
}